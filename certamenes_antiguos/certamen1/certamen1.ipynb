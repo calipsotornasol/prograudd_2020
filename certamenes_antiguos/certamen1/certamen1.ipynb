{
 "cells": [
  {
   "cell_type": "code",
   "execution_count": 2,
   "metadata": {},
   "outputs": [],
   "source": [
    "### 1.0 Lollapalooza"
   ]
  },
  {
   "cell_type": "code",
   "execution_count": 28,
   "metadata": {},
   "outputs": [
    {
     "name": "stdout",
     "output_type": "stream",
     "text": [
      "***Bienvenido al sistema de compra de entradas***\n",
      "Cuántas entradas desea comprar?: 3\n",
      "Ingrese el mes de compra:agosto\n",
      "Desea incluir un estacionamieto? si/no si\n",
      "Cuantos estacionamientos quiere? 2\n",
      "El precio total de la compra es: 275000\n"
     ]
    }
   ],
   "source": [
    "print(\"***Bienvenido al sistema de compra de entradas***\")\n",
    "entradas = int(input(\"Cuántas entradas desea comprar?: \"))\n",
    "mes = str(input(\"Ingrese el mes de compra:\"))\n",
    "valor=0\n",
    "valor_final=0\n",
    "mes_valido=True\n",
    "\n",
    "if mes == 'agosto':\n",
    "    valor=85000*entradas\n",
    "\n",
    "elif mes=='septiembre' or mes=='octubre':\n",
    "    valor=140000*entradas\n",
    "\n",
    "elif mes=='noviembre' or mes=='diciembre' or mes =='enero':\n",
    "    dias = int(input(\"Para cuantos días?:\"))\n",
    "    if dias < 3:\n",
    "        valor=85000*dias*entradas\n",
    "    elif dias == 3:\n",
    "        valor=180000*entradas\n",
    "    else:\n",
    "        print('Numero de días invalido')\n",
    "        \n",
    "elif mes=='febrero' or mes=='marzo':\n",
    "    dias = int(input(\"Para cuantos días?: \"))\n",
    "    if dias < 3:\n",
    "        valor=100000*dias*entradas\n",
    "    elif dias == 3:\n",
    "        valor=250000*entradas\n",
    "    else:\n",
    "        print('Numero de días invalido')\n",
    "        \n",
    "else:\n",
    "    print('Mes invalido')\n",
    "    mes_valido=False\n",
    "\n",
    "    \n",
    "if mes_valido==True:\n",
    "    estacionamiento=input('Desea incluir un estacionamieto? si/no ')\n",
    "\n",
    "    if estacionamiento =='si':\n",
    "        n_estacionamientos=int(input('Cuantos estacionamientos quiere? '))\n",
    "        valor_final=valor + 5000*n_estacionamientos*dias\n",
    "    else:\n",
    "        valor_final=valor\n",
    "\n",
    "    print('El precio total de la compra es:', valor_final)\n",
    "        \n"
   ]
  },
  {
   "cell_type": "markdown",
   "metadata": {},
   "source": [
    "### 2.0 El poder del 7"
   ]
  },
  {
   "cell_type": "code",
   "execution_count": 1,
   "metadata": {},
   "outputs": [
    {
     "name": "stdout",
     "output_type": "stream",
     "text": [
      "Ingrese el valor máximo:90\n",
      "1\n",
      "2\n",
      "3\n",
      "4\n",
      "5\n",
      "6\n",
      "7\n",
      "aplauso\n",
      "9\n",
      "10\n",
      "11\n",
      "12\n",
      "13\n",
      "14\n",
      "15\n",
      "16\n",
      "17\n",
      "aplauso \n",
      "19\n",
      "20\n",
      "21\n",
      "22\n",
      "23\n",
      "24\n",
      "25\n",
      "26\n",
      "27\n",
      "aplauso \n",
      "29\n",
      "30\n",
      "31\n",
      "32\n",
      "33\n",
      "34\n",
      "35\n",
      "36\n",
      "37\n",
      "aplauso \n",
      "39\n",
      "40\n",
      "41\n",
      "42\n",
      "43\n",
      "44\n",
      "45\n",
      "46\n",
      "47\n",
      "aplauso \n",
      "49\n",
      "50\n",
      "51\n",
      "52\n",
      "53\n",
      "54\n",
      "55\n",
      "56\n",
      "57\n",
      "aplauso \n",
      "59\n",
      "60\n",
      "61\n",
      "62\n",
      "63\n",
      "64\n",
      "65\n",
      "66\n",
      "67\n",
      "aplauso \n",
      "69\n",
      "70\n",
      "71\n",
      "72\n",
      "73\n",
      "74\n",
      "75\n",
      "76\n",
      "77\n",
      "aplauso \n",
      "79\n",
      "aplauso \n",
      "aplauso \n",
      "aplauso \n",
      "aplauso \n",
      "aplauso \n",
      "aplauso \n",
      "aplauso \n",
      "aplauso \n",
      "aplauso aplauso \n",
      "aplauso \n",
      "90\n"
     ]
    }
   ],
   "source": [
    "n=int(input(\"Ingrese el valor máximo:\"))\n",
    "for i in range(1,n+1):\n",
    "    s=str(i)\n",
    "    if len(s)==1:\n",
    "        if s=='8':\n",
    "            s='aplauso'\n",
    "        print(s)\n",
    "    else:\n",
    "        aux=''\n",
    "        n=0\n",
    "        for e in s:\n",
    "            if e == '8':\n",
    "                aux='aplauso '\n",
    "                n=n+1\n",
    "            \n",
    "        if aux== 'aplauso ':\n",
    "            print(aux*n)\n",
    "        else:\n",
    "            print(s)"
   ]
  },
  {
   "cell_type": "markdown",
   "metadata": {},
   "source": [
    "### 3.0 Tweets"
   ]
  },
  {
   "cell_type": "code",
   "execution_count": 2,
   "metadata": {},
   "outputs": [
    {
     "name": "stdout",
     "output_type": "stream",
     "text": [
      "Lista s ['No', 'quiero', 'ser', 'alarmista', 'pero', 'mi', 'padre', 'tiene', 'una', 'empresa', 'de', 'alarmas', 'y', 'seguridad', 'y', 'la', 'voy', 'a', 'heredar.'] \n",
      "\n",
      "Lista h ['alarmas', 'seguridad'] \n",
      "\n",
      "Lista l ['No', 'quiero', 'ser', 'alarmista', 'pero', 'mi', 'padre', 'tiene', 'una', 'empresa', 'de', '#alarmas', 'y', '#seguridad', 'y', 'la', 'voy', 'a', 'heredar.'] \n",
      "\n",
      "Numero de caracteres 74 \n",
      "\n",
      "No qui@ ser ala@ per@ mi pad@ tie@ una emp@ de #al@ y #se@ y la voy a her@\n"
     ]
    }
   ],
   "source": [
    "s1= \"No quiero ser alarmista pero mi padre tiene una empresa de alarmas y seguridad y la voy a heredar.\"\n",
    "\n",
    "l=s1.split(' ')\n",
    "\n",
    "print('Lista s', l, '\\n')\n",
    "\n",
    "hashtags = 'alarmas,seguridad'\n",
    "h = hashtags.split(',')\n",
    "\n",
    "print('Lista h', h, '\\n')\n",
    "\n",
    "for i in range(len(l)):\n",
    "    for j in range(len(h)):\n",
    "        if h[j] == l[i]:\n",
    "            l[i]='#' + h[j]\n",
    "\n",
    "print('Lista l', l, '\\n')\n",
    "\n",
    "new_l=[]\n",
    " \n",
    "\n",
    "for e in l:\n",
    "    if len(e)>3:\n",
    "        new_l.append(e[:3]+'@')\n",
    "    else:\n",
    "        new_l.append(e)\n",
    "    \n",
    "\n",
    "s2 = ' '.join(new_l)\n",
    "\n",
    "print('Numero de caracteres',len(s2), '\\n')\n",
    "\n",
    "if len(s2)>=154:\n",
    "    print(s2[0:154])\n",
    "else:\n",
    "    print(s2)"
   ]
  },
  {
   "cell_type": "code",
   "execution_count": 11,
   "metadata": {},
   "outputs": [
    {
     "name": "stdout",
     "output_type": "stream",
     "text": [
      "Ingrese un número 4\n",
      "4\n",
      "2.0\n",
      "1.0\n"
     ]
    }
   ],
   "source": [
    "x=int(input(\"Ingrese un número \"))\n",
    "a=True\n",
    "#Posible solución 1\n",
    "while a==True:\n",
    "    if x%2==0:\n",
    "        print(x)\n",
    "        x=x/2\n",
    "    else:\n",
    "        print(x)\n",
    "        x=3*x+1\n",
    "    if x==1:\n",
    "        print(x)\n",
    "        a=False"
   ]
  },
  {
   "cell_type": "code",
   "execution_count": null,
   "metadata": {},
   "outputs": [],
   "source": []
  },
  {
   "cell_type": "code",
   "execution_count": null,
   "metadata": {},
   "outputs": [],
   "source": []
  }
 ],
 "metadata": {
  "kernelspec": {
   "display_name": "Python 3",
   "language": "python",
   "name": "python3"
  },
  "language_info": {
   "codemirror_mode": {
    "name": "ipython",
    "version": 3
   },
   "file_extension": ".py",
   "mimetype": "text/x-python",
   "name": "python",
   "nbconvert_exporter": "python",
   "pygments_lexer": "ipython3",
   "version": "3.7.3"
  }
 },
 "nbformat": 4,
 "nbformat_minor": 2
}
