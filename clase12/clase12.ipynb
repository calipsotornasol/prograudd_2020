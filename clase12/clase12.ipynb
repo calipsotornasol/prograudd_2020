{
 "cells": [
  {
   "cell_type": "code",
   "execution_count": 43,
   "metadata": {},
   "outputs": [],
   "source": [
    "f = open('2020-05-01-CasosConfirmados.csv','r')\n",
    "contagiados=[]\n",
    "comuna=[]\n",
    "for linea in f:\n",
    "    lista=linea.split(',') #Paso texto antes de la coma a una lista    \n",
    "    if lista[0]=='Metropolitana':\n",
    "        contagiados.append(float(lista[5][:-1]))\n",
    "        comuna.append(lista[2])\n",
    "f.close()\n",
    "\n",
    "contagiados_sort=contagiados.copy() \n",
    "contagiados_sort.sort(reverse=True) \n",
    "\n",
    "contagiados_sort\n",
    "\n",
    "\n",
    "min_contagiados=min(contagiados_sort[:5])"
   ]
  },
  {
   "cell_type": "code",
   "execution_count": 44,
   "metadata": {},
   "outputs": [
    {
     "data": {
      "text/plain": [
       "431.0"
      ]
     },
     "execution_count": 44,
     "metadata": {},
     "output_type": "execute_result"
    }
   ],
   "source": [
    "min_contagiados"
   ]
  },
  {
   "cell_type": "code",
   "execution_count": 45,
   "metadata": {},
   "outputs": [
    {
     "data": {
      "text/plain": [
       "[980.0, 889.0, 480.0, 435.0, 431.0]"
      ]
     },
     "execution_count": 45,
     "metadata": {},
     "output_type": "execute_result"
    }
   ],
   "source": [
    "contagiados_sort[:5]"
   ]
  },
  {
   "cell_type": "code",
   "execution_count": 47,
   "metadata": {},
   "outputs": [
    {
     "name": "stdout",
     "output_type": "stream",
     "text": [
      "Solucion 1:\n",
      "Las comunas con mas contagiados son:\n",
      "\n",
      "Independencia 431.0\n",
      "Maipu 480.0\n",
      "Puente Alto 889.0\n",
      "San Bernardo 435.0\n",
      "Santiago 980.0\n"
     ]
    }
   ],
   "source": [
    "print('Solucion 1:')\n",
    "print('Las comunas con mas contagiados son:' + '\\n')\n",
    "for i in range(len(contagiados)):\n",
    "    if contagiados[i]>=min_contagiados:\n",
    "        print(comuna[i], contagiados[i])\n"
   ]
  },
  {
   "cell_type": "code",
   "execution_count": 63,
   "metadata": {},
   "outputs": [
    {
     "name": "stdout",
     "output_type": "stream",
     "text": [
      "Solucion 2\n"
     ]
    }
   ],
   "source": [
    "#Opcion 2. Imprime los top-5  en orden\n",
    "print('Solucion 2')\n",
    "index_aux = 5*[0] #Creo una lista para guardar los indicesç"
   ]
  },
  {
   "cell_type": "code",
   "execution_count": 64,
   "metadata": {},
   "outputs": [
    {
     "name": "stdout",
     "output_type": "stream",
     "text": [
      "[48, 37, 25, 42, 12]\n"
     ]
    }
   ],
   "source": [
    "for i in range (5):\n",
    "    index_aux[i]=contagiados.index(contagiados_sort[:5][i])\n",
    "print(index_aux)"
   ]
  },
  {
   "cell_type": "code",
   "execution_count": 66,
   "metadata": {},
   "outputs": [
    {
     "name": "stdout",
     "output_type": "stream",
     "text": [
      "Las comunas con más contagiados son:\n",
      "\n",
      "Santiago 980.0\n",
      "Puente Alto 889.0\n",
      "Maipu 480.0\n",
      "San Bernardo 435.0\n",
      "Independencia 431.0\n"
     ]
    }
   ],
   "source": [
    "print('Las comunas con más contagiados son:' + '\\n')\n",
    "for i in range(5):\n",
    "    print(comuna[index_aux[i]], contagiados[index_aux[i]])"
   ]
  },
  {
   "cell_type": "code",
   "execution_count": null,
   "metadata": {},
   "outputs": [],
   "source": []
  }
 ],
 "metadata": {
  "kernelspec": {
   "display_name": "Python 3",
   "language": "python",
   "name": "python3"
  },
  "language_info": {
   "codemirror_mode": {
    "name": "ipython",
    "version": 3
   },
   "file_extension": ".py",
   "mimetype": "text/x-python",
   "name": "python",
   "nbconvert_exporter": "python",
   "pygments_lexer": "ipython3",
   "version": "3.7.6"
  }
 },
 "nbformat": 4,
 "nbformat_minor": 4
}
