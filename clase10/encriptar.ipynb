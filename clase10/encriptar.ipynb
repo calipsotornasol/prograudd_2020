{
 "cells": [
  {
   "cell_type": "code",
   "execution_count": 2,
   "metadata": {},
   "outputs": [
    {
     "name": "stdout",
     "output_type": "stream",
     "text": [
      "Ingrese una palabra a encriptar: mundo\n",
      "01nd9\n"
     ]
    }
   ],
   "source": [
    "clave = 'murcielago'\n",
    "salida = []\n",
    "\n",
    "palabra1 = input('Ingrese una palabra a encriptar: ')\n",
    "\n",
    "for c in palabra1:\n",
    "    if c not in clave: \n",
    "        salida.append(c)\n",
    "    else: \n",
    "        salida.append(str(clave.index(c)))\n",
    "        \n",
    "palabra_encriptada=''.join(salida)\n",
    "print(palabra_encriptada)"
   ]
  },
  {
   "cell_type": "code",
   "execution_count": 5,
   "metadata": {},
   "outputs": [
    {
     "name": "stdout",
     "output_type": "stream",
     "text": [
      "Ingrese una palabra a desencriptar: 01nd9\n",
      "mundo\n"
     ]
    }
   ],
   "source": [
    "clave = 'murcielago'\n",
    "salida2 = []\n",
    "\n",
    "palabra2 = input('Ingrese una palabra a desencriptar: ')\n",
    "\n",
    "for i in range(len(palabra2)):\n",
    "    if palabra2[i].isdigit()== True:\n",
    "        salida2.append(clave[int(palabra2[i])]) \n",
    "    else:\n",
    "        salida2.append(str(palabra2[i])) \n",
    "        \n",
    "palabra_desencriptada=''.join(salida2)\n",
    "\n",
    "print(palabra_desencriptada)\n"
   ]
  },
  {
   "cell_type": "code",
   "execution_count": null,
   "metadata": {},
   "outputs": [],
   "source": []
  }
 ],
 "metadata": {
  "kernelspec": {
   "display_name": "Python 3",
   "language": "python",
   "name": "python3"
  },
  "language_info": {
   "codemirror_mode": {
    "name": "ipython",
    "version": 3
   },
   "file_extension": ".py",
   "mimetype": "text/x-python",
   "name": "python",
   "nbconvert_exporter": "python",
   "pygments_lexer": "ipython3",
   "version": "3.7.6"
  }
 },
 "nbformat": 4,
 "nbformat_minor": 4
}
