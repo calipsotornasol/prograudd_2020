{
 "cells": [
  {
   "cell_type": "code",
   "execution_count": 103,
   "metadata": {},
   "outputs": [],
   "source": [
    "import pandas as pd"
   ]
  },
  {
   "cell_type": "code",
   "execution_count": 104,
   "metadata": {},
   "outputs": [],
   "source": [
    "casos=pd.read_csv('WHO-COVID-19-global-data.csv')"
   ]
  },
  {
   "cell_type": "code",
   "execution_count": 105,
   "metadata": {},
   "outputs": [
    {
     "data": {
      "text/html": [
       "<div>\n",
       "<style scoped>\n",
       "    .dataframe tbody tr th:only-of-type {\n",
       "        vertical-align: middle;\n",
       "    }\n",
       "\n",
       "    .dataframe tbody tr th {\n",
       "        vertical-align: top;\n",
       "    }\n",
       "\n",
       "    .dataframe thead th {\n",
       "        text-align: right;\n",
       "    }\n",
       "</style>\n",
       "<table border=\"1\" class=\"dataframe\">\n",
       "  <thead>\n",
       "    <tr style=\"text-align: right;\">\n",
       "      <th></th>\n",
       "      <th>Date_reported</th>\n",
       "      <th>Country_code</th>\n",
       "      <th>Country</th>\n",
       "      <th>WHO_region</th>\n",
       "      <th>New_cases</th>\n",
       "      <th>Cumulative_cases</th>\n",
       "      <th>New_deaths</th>\n",
       "      <th>Cumulative_deaths</th>\n",
       "    </tr>\n",
       "  </thead>\n",
       "  <tbody>\n",
       "    <tr>\n",
       "      <th>0</th>\n",
       "      <td>2020-02-24T00:00:00Z</td>\n",
       "      <td>AF</td>\n",
       "      <td>Afghanistan</td>\n",
       "      <td>EMRO</td>\n",
       "      <td>1</td>\n",
       "      <td>1</td>\n",
       "      <td>0</td>\n",
       "      <td>0</td>\n",
       "    </tr>\n",
       "    <tr>\n",
       "      <th>1</th>\n",
       "      <td>2020-02-25T00:00:00Z</td>\n",
       "      <td>AF</td>\n",
       "      <td>Afghanistan</td>\n",
       "      <td>EMRO</td>\n",
       "      <td>0</td>\n",
       "      <td>1</td>\n",
       "      <td>0</td>\n",
       "      <td>0</td>\n",
       "    </tr>\n",
       "    <tr>\n",
       "      <th>2</th>\n",
       "      <td>2020-02-26T00:00:00Z</td>\n",
       "      <td>AF</td>\n",
       "      <td>Afghanistan</td>\n",
       "      <td>EMRO</td>\n",
       "      <td>0</td>\n",
       "      <td>1</td>\n",
       "      <td>0</td>\n",
       "      <td>0</td>\n",
       "    </tr>\n",
       "    <tr>\n",
       "      <th>3</th>\n",
       "      <td>2020-02-27T00:00:00Z</td>\n",
       "      <td>AF</td>\n",
       "      <td>Afghanistan</td>\n",
       "      <td>EMRO</td>\n",
       "      <td>0</td>\n",
       "      <td>1</td>\n",
       "      <td>0</td>\n",
       "      <td>0</td>\n",
       "    </tr>\n",
       "    <tr>\n",
       "      <th>4</th>\n",
       "      <td>2020-02-28T00:00:00Z</td>\n",
       "      <td>AF</td>\n",
       "      <td>Afghanistan</td>\n",
       "      <td>EMRO</td>\n",
       "      <td>0</td>\n",
       "      <td>1</td>\n",
       "      <td>0</td>\n",
       "      <td>0</td>\n",
       "    </tr>\n",
       "  </tbody>\n",
       "</table>\n",
       "</div>"
      ],
      "text/plain": [
       "          Date_reported Country_code      Country WHO_region  New_cases  \\\n",
       "0  2020-02-24T00:00:00Z           AF  Afghanistan       EMRO          1   \n",
       "1  2020-02-25T00:00:00Z           AF  Afghanistan       EMRO          0   \n",
       "2  2020-02-26T00:00:00Z           AF  Afghanistan       EMRO          0   \n",
       "3  2020-02-27T00:00:00Z           AF  Afghanistan       EMRO          0   \n",
       "4  2020-02-28T00:00:00Z           AF  Afghanistan       EMRO          0   \n",
       "\n",
       "   Cumulative_cases  New_deaths  Cumulative_deaths  \n",
       "0                 1           0                  0  \n",
       "1                 1           0                  0  \n",
       "2                 1           0                  0  \n",
       "3                 1           0                  0  \n",
       "4                 1           0                  0  "
      ]
     },
     "execution_count": 105,
     "metadata": {},
     "output_type": "execute_result"
    }
   ],
   "source": [
    "casos.head()"
   ]
  },
  {
   "cell_type": "code",
   "execution_count": 106,
   "metadata": {},
   "outputs": [
    {
     "data": {
      "text/plain": [
       "0        Afghanistan\n",
       "1        Afghanistan\n",
       "2        Afghanistan\n",
       "3        Afghanistan\n",
       "4        Afghanistan\n",
       "            ...     \n",
       "20209       Zimbabwe\n",
       "20210       Zimbabwe\n",
       "20211       Zimbabwe\n",
       "20212       Zimbabwe\n",
       "20213       Zimbabwe\n",
       "Name: Country, Length: 20214, dtype: object"
      ]
     },
     "execution_count": 106,
     "metadata": {},
     "output_type": "execute_result"
    }
   ],
   "source": [
    "casos['Country']"
   ]
  },
  {
   "cell_type": "code",
   "execution_count": 107,
   "metadata": {},
   "outputs": [],
   "source": [
    "def casos_pais(file,country,fecha):\n",
    "    with open (file) as f:\n",
    "        next(f)\n",
    "        for line in f:\n",
    "            s=line.split(',')\n",
    "            pais=s[2]\n",
    "            fecha_=s[0]\n",
    "            if pais==country and fecha_==fecha:\n",
    "                casos_cum=s[5]\n",
    "                return (pais,casos_cum)"
   ]
  },
  {
   "cell_type": "code",
   "execution_count": 108,
   "metadata": {},
   "outputs": [
    {
     "data": {
      "text/plain": [
       "('Peru', '187400')"
      ]
     },
     "execution_count": 108,
     "metadata": {},
     "output_type": "execute_result"
    }
   ],
   "source": [
    "casos_pais('WHO-COVID-19-global-data.csv','Peru','2020-06-07T00:00:00Z' )"
   ]
  },
  {
   "cell_type": "code",
   "execution_count": 109,
   "metadata": {},
   "outputs": [],
   "source": [
    "import operator \n",
    "\n",
    "def n_caos_pais(n,fecha,file):\n",
    "    paises=dict()\n",
    "    with open (file) as f:\n",
    "        next(f)\n",
    "        for line in f:\n",
    "            s=line.split(',')\n",
    "            pais=s[2]\n",
    "            fecha_=s[0]\n",
    "            if fecha_==fecha:\n",
    "                paises[pais]=float(s[5])\n",
    "                \n",
    "    l = sorted(paises.items(), key=operator.itemgetter(1), reverse=True)\n",
    "             \n",
    "        \n",
    "    return l[0:n]"
   ]
  },
  {
   "cell_type": "code",
   "execution_count": 110,
   "metadata": {},
   "outputs": [
    {
     "data": {
      "text/plain": [
       "[('United States of America', 1886794.0),\n",
       " ('Brazil', 645771.0),\n",
       " ('Russian Federation', 467673.0),\n",
       " ('The United Kingdom', 284872.0),\n",
       " ('India', 246628.0),\n",
       " ('Spain', 241310.0),\n",
       " ('Italy', 234801.0),\n",
       " ('Peru', 187400.0),\n",
       " ('Germany', 183979.0),\n",
       " ('Iran (Islamic Republic of)', 169425.0),\n",
       " ('Turkey', 169218.0),\n",
       " ('France', 150022.0),\n",
       " ('Chile', 127745.0),\n",
       " ('Mexico', 110026.0),\n",
       " ('Pakistan', 98943.0)]"
      ]
     },
     "execution_count": 110,
     "metadata": {},
     "output_type": "execute_result"
    }
   ],
   "source": [
    "n_caos_pais(15,'2020-06-07T00:00:00Z', 'WHO-COVID-19-global-data.csv')"
   ]
  },
  {
   "cell_type": "code",
   "execution_count": 111,
   "metadata": {},
   "outputs": [],
   "source": [
    "def max_fallecidos(file): \n",
    "    fallecidos=list()\n",
    "    paises=list()\n",
    "    with open (file) as f:\n",
    "        next(f)\n",
    "        for line in f:\n",
    "            s=line.split(',')\n",
    "            paises.append(s[2])\n",
    "            fallecidos.append(float(s[7]))\n",
    "        maximo=max(fallecidos)\n",
    "        print(maximo)\n",
    "        i_max=fallecidos.index(maximo)\n",
    "            \n",
    "    return paises[i_max],maximo"
   ]
  },
  {
   "cell_type": "code",
   "execution_count": 112,
   "metadata": {},
   "outputs": [
    {
     "name": "stdout",
     "output_type": "stream",
     "text": [
      "109038.0\n"
     ]
    },
    {
     "data": {
      "text/plain": [
       "('United States of America', 109038.0)"
      ]
     },
     "execution_count": 112,
     "metadata": {},
     "output_type": "execute_result"
    }
   ],
   "source": [
    "max_fallecidos('WHO-COVID-19-global-data.csv')"
   ]
  },
  {
   "cell_type": "code",
   "execution_count": 125,
   "metadata": {},
   "outputs": [
    {
     "data": {
      "text/plain": [
       "{'Arica y Parinacota': 806.0,\n",
       " 'Tarapacá': 3761.0,\n",
       " 'Antofagasta': 6627.0,\n",
       " 'Atacama': 6904.0,\n",
       " 'Coquimbo': 7755.0,\n",
       " 'Valparaíso': 12072.0,\n",
       " 'Metropolitana': 111030.0,\n",
       " 'O’Higgins': 112077.0,\n",
       " 'Maule': 113949.0,\n",
       " 'Ñuble': 115389.0,\n",
       " 'Biobío': 117763.0,\n",
       " 'Araucanía': 120042.0,\n",
       " 'Los Ríos': 120440.0,\n",
       " 'Los Lagos': 121378.0,\n",
       " 'Aysén': 121393.0,\n",
       " 'Magallanes': 122463.0}"
      ]
     },
     "execution_count": 125,
     "metadata": {},
     "output_type": "execute_result"
    }
   ],
   "source": [
    "def contagiados_region(file):\n",
    "    contagios_reg=dict()\n",
    "    with open (file) as f:\n",
    "            next(f)\n",
    "            aux=0\n",
    "            for line in f:\n",
    "                s=line.split(',')\n",
    "                columnas=len(s)\n",
    "                region=s[0].strip()\n",
    "                contagiados=float(s[columnas-2])\n",
    "                contagios_reg[region]=contagiados+aux\n",
    "                aux=aux+contagiados\n",
    "    return contagios_reg\n",
    "                \n",
    "contagiados_region('Covid-19.csv')  "
   ]
  },
  {
   "cell_type": "code",
   "execution_count": 150,
   "metadata": {},
   "outputs": [
    {
     "name": "stdout",
     "output_type": "stream",
     "text": [
      "Ancud 85.0\n",
      "Calbuco 8.0\n",
      "Castro 8.0\n",
      "Chaiten 1.0\n",
      "Chonchi 0.0\n",
      "Cochamo 1.0\n",
      "Curaco de Velez 0.0\n",
      "Dalcahue 6.0\n",
      "Fresia 0.0\n",
      "Frutillar 12.0\n",
      "Futaleufu 1.0\n",
      "Hualaihue 4.0\n",
      "Llanquihue 6.0\n",
      "Los Muermos 2.0\n",
      "Maullin 15.0\n",
      "Osorno 391.0\n",
      "Palena 0.0\n",
      "Puerto Montt 193.0\n",
      "Puerto Octay 5.0\n",
      "Puerto Varas 30.0\n",
      "Puqueldon 0.0\n",
      "Purranque 66.0\n",
      "Puyehue 11.0\n",
      "Queilen 0.0\n",
      "Quellon 1.0\n",
      "Quemchi 14.0\n",
      "Quinchao 1.0\n",
      "Rio Negro 31.0\n",
      "San Juan de la Costa 34.0\n",
      "San Pablo 12.0\n"
     ]
    }
   ],
   "source": [
    "def contagiados_file_r(file, region):\n",
    "    contagiados=list()\n",
    "    comunas=list()\n",
    "    with open (file) as f:\n",
    "            next(f)\n",
    "            for line in f:\n",
    "                s=line.split(',')\n",
    "                \n",
    "                columnas=len(s)\n",
    "                \n",
    "                region_=s[0].strip()\n",
    "                \n",
    "                if region_==region:\n",
    "                    n_contagiados=float(s[columnas-2])  \n",
    "                    comunas.append(s[2])\n",
    "                    contagiados.append(n_contagiados)\n",
    "    \n",
    "    file_name=region.lower().replace(' ', '_') + '.txt'\n",
    "    g=open(file_name, 'w')        \n",
    "    for i in range(len(comunas)):\n",
    "        print(comunas[i], contagiados[i])\n",
    "        g.write(comunas[i] + ' ' + str(contagiados[i]) + '\\n')\n",
    "\n",
    "contagiados_file_r('Covid-19.csv', 'Los Lagos')  "
   ]
  },
  {
   "cell_type": "code",
   "execution_count": null,
   "metadata": {},
   "outputs": [],
   "source": []
  },
  {
   "cell_type": "code",
   "execution_count": null,
   "metadata": {},
   "outputs": [],
   "source": []
  }
 ],
 "metadata": {
  "kernelspec": {
   "display_name": "Python 3",
   "language": "python",
   "name": "python3"
  },
  "language_info": {
   "codemirror_mode": {
    "name": "ipython",
    "version": 3
   },
   "file_extension": ".py",
   "mimetype": "text/x-python",
   "name": "python",
   "nbconvert_exporter": "python",
   "pygments_lexer": "ipython3",
   "version": "3.7.6"
  }
 },
 "nbformat": 4,
 "nbformat_minor": 4
}
