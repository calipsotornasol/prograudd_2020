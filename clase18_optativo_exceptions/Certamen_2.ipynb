{
 "cells": [
  {
   "cell_type": "code",
   "execution_count": 23,
   "metadata": {},
   "outputs": [],
   "source": [
    "def palindromo(n):\n",
    "    for i in range(n):\n",
    "        print(n-i, end= ' ')\n",
    "    for i in range(1, n+1):\n",
    "        print(i, end =' ')"
   ]
  },
  {
   "cell_type": "code",
   "execution_count": 24,
   "metadata": {},
   "outputs": [
    {
     "name": "stdout",
     "output_type": "stream",
     "text": [
      "3 2 1 1 2 3 "
     ]
    }
   ],
   "source": [
    "palindromo(3)"
   ]
  },
  {
   "cell_type": "code",
   "execution_count": 25,
   "metadata": {},
   "outputs": [],
   "source": [
    "def palindromo2(n):\n",
    "    s1=''\n",
    "    s2=''\n",
    "    for i in range(n):\n",
    "        s1= s1 + str(n-i) + ' '\n",
    "    for i in range(1, n+1):\n",
    "        s2= s2 + str(i) + ' '\n",
    "    return s1 + s2"
   ]
  },
  {
   "cell_type": "code",
   "execution_count": 26,
   "metadata": {},
   "outputs": [
    {
     "data": {
      "text/plain": [
       "'3 2 1 1 2 3 '"
      ]
     },
     "execution_count": 26,
     "metadata": {},
     "output_type": "execute_result"
    }
   ],
   "source": [
    "palindromo2(3)"
   ]
  },
  {
   "cell_type": "code",
   "execution_count": 31,
   "metadata": {},
   "outputs": [],
   "source": [
    "clave = tuple('murcielago')\n",
    "\n",
    "def encriptar(palabra):\n",
    "    salida = []\n",
    "    for c in palabra:\n",
    "        if c not in clave:\n",
    "            salida.append(c)\n",
    "        else:\n",
    "            salida.append(str(clave.index(c)))\n",
    "    return ''.join(salida)\n",
    "\n",
    "\n"
   ]
  },
  {
   "cell_type": "code",
   "execution_count": 32,
   "metadata": {},
   "outputs": [
    {
     "data": {
      "text/plain": [
       "'01nd9'"
      ]
     },
     "execution_count": 32,
     "metadata": {},
     "output_type": "execute_result"
    }
   ],
   "source": [
    "encriptar('mundo')"
   ]
  },
  {
   "cell_type": "code",
   "execution_count": 50,
   "metadata": {},
   "outputs": [],
   "source": [
    "from math import log2\n",
    "\n",
    "def contar(S):\n",
    "    d = {}\n",
    "    for c in S:\n",
    "        if c in d: d[c] += 1\n",
    "        else: d[c] = 1\n",
    "    return d\n",
    "\n",
    "def entropia(S):\n",
    "    n=len(S)\n",
    "    d=contar(S)\n",
    "    h=0\n",
    "    for k,v in d.items():\n",
    "        h += (v/n)*log2(n/v)\n",
    "    return h"
   ]
  },
  {
   "cell_type": "code",
   "execution_count": 51,
   "metadata": {},
   "outputs": [
    {
     "data": {
      "text/plain": [
       "1.9182958340544891"
      ]
     },
     "execution_count": 51,
     "metadata": {},
     "output_type": "execute_result"
    }
   ],
   "source": [
    "texto = 'mi mama me mima mi mama'\n",
    "S = texto.split()\n",
    "H = entropia(S)\n",
    "H"
   ]
  },
  {
   "cell_type": "code",
   "execution_count": null,
   "metadata": {},
   "outputs": [],
   "source": []
  }
 ],
 "metadata": {
  "kernelspec": {
   "display_name": "Python 3",
   "language": "python",
   "name": "python3"
  },
  "language_info": {
   "codemirror_mode": {
    "name": "ipython",
    "version": 3
   },
   "file_extension": ".py",
   "mimetype": "text/x-python",
   "name": "python",
   "nbconvert_exporter": "python",
   "pygments_lexer": "ipython3",
   "version": "3.7.3"
  }
 },
 "nbformat": 4,
 "nbformat_minor": 2
}
