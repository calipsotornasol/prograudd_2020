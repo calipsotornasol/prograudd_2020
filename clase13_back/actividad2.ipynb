{
 "cells": [
  {
   "cell_type": "code",
   "execution_count": 31,
   "metadata": {},
   "outputs": [],
   "source": [
    "colegio=['Tamara Vicencio', 'Vivian Munoz', 'Leo Ferres','Javiera Ventura']\n",
    "universidad = ['Eduardo Graells', 'Leo Ferres', 'Loreto Bravo']\n"
   ]
  },
  {
   "cell_type": "code",
   "execution_count": 32,
   "metadata": {},
   "outputs": [],
   "source": [
    "L=colegio.copy()\n",
    "for e in colegio:\n",
    "    for f in universidad:\n",
    "        if e == f:\n",
    "            L.remove(f)\n",
    "    \n",
    "a=universidad + L"
   ]
  },
  {
   "cell_type": "code",
   "execution_count": 33,
   "metadata": {},
   "outputs": [
    {
     "data": {
      "text/plain": [
       "['Eduardo Graells',\n",
       " 'Leo Ferres',\n",
       " 'Loreto Bravo',\n",
       " 'Tamara Vicencio',\n",
       " 'Vivian Munoz',\n",
       " 'Javiera Ventura']"
      ]
     },
     "execution_count": 33,
     "metadata": {},
     "output_type": "execute_result"
    }
   ],
   "source": [
    "a"
   ]
  },
  {
   "cell_type": "code",
   "execution_count": 34,
   "metadata": {},
   "outputs": [],
   "source": [
    "L=universidad.copy()\n",
    "for e in universidad:\n",
    "    for f in colegio:\n",
    "        if e == f:\n",
    "            L.remove(f)\n",
    "    \n",
    "b=colegio + L"
   ]
  },
  {
   "cell_type": "code",
   "execution_count": 35,
   "metadata": {},
   "outputs": [
    {
     "data": {
      "text/plain": [
       "['Tamara Vicencio',\n",
       " 'Vivian Munoz',\n",
       " 'Leo Ferres',\n",
       " 'Javiera Ventura',\n",
       " 'Eduardo Graells',\n",
       " 'Loreto Bravo']"
      ]
     },
     "execution_count": 35,
     "metadata": {},
     "output_type": "execute_result"
    }
   ],
   "source": [
    "b"
   ]
  },
  {
   "cell_type": "code",
   "execution_count": 38,
   "metadata": {},
   "outputs": [],
   "source": [
    "def lista_cumpleanos(colegio,universidad):\n",
    "    L=colegio.copy()\n",
    "    for e in colegio:\n",
    "        for f in universidad:\n",
    "            if e == f:\n",
    "                L.remove(f)\n",
    "    \n",
    "    lista_cumple=universidad + L\n",
    "    return lista_cumple"
   ]
  },
  {
   "cell_type": "code",
   "execution_count": 39,
   "metadata": {},
   "outputs": [
    {
     "data": {
      "text/plain": [
       "['Eduardo Graells',\n",
       " 'Leo Ferres',\n",
       " 'Loreto Bravo',\n",
       " 'Tamara Vicencio',\n",
       " 'Vivian Munoz',\n",
       " 'Javiera Ventura']"
      ]
     },
     "execution_count": 39,
     "metadata": {},
     "output_type": "execute_result"
    }
   ],
   "source": [
    "lista_cumpleanos(colegio, universidad)"
   ]
  },
  {
   "cell_type": "code",
   "execution_count": 42,
   "metadata": {},
   "outputs": [],
   "source": [
    "def vasos(L):\n",
    "    n_vasos=len(L)+len(L)/3\n",
    "    return n_vasos\n",
    "    "
   ]
  },
  {
   "cell_type": "code",
   "execution_count": 43,
   "metadata": {},
   "outputs": [
    {
     "data": {
      "text/plain": [
       "8.0"
      ]
     },
     "execution_count": 43,
     "metadata": {},
     "output_type": "execute_result"
    }
   ],
   "source": [
    "vasos(lista_cumpleanos(colegio, universidad))"
   ]
  },
  {
   "cell_type": "code",
   "execution_count": null,
   "metadata": {},
   "outputs": [],
   "source": []
  }
 ],
 "metadata": {
  "kernelspec": {
   "display_name": "Python 3",
   "language": "python",
   "name": "python3"
  },
  "language_info": {
   "codemirror_mode": {
    "name": "ipython",
    "version": 3
   },
   "file_extension": ".py",
   "mimetype": "text/x-python",
   "name": "python",
   "nbconvert_exporter": "python",
   "pygments_lexer": "ipython3",
   "version": "3.7.3"
  }
 },
 "nbformat": 4,
 "nbformat_minor": 2
}
