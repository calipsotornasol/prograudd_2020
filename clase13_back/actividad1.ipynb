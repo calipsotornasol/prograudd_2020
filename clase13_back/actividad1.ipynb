{
 "cells": [
  {
   "cell_type": "code",
   "execution_count": 58,
   "metadata": {},
   "outputs": [],
   "source": [
    "def alumno_nota_max():\n",
    "    f = open('notas_prograudd.txt','r')\n",
    "    nombres=[]\n",
    "    notas=[]\n",
    "    \n",
    "    for l in f:\n",
    "        L=l.split()     \n",
    "        nombres.append(L[0])\n",
    "        notas.append(L[1])\n",
    "    f.close()\n",
    "    \n",
    "    nota_max=max(notas)\n",
    "    nombres_nota_max=[]\n",
    "    \n",
    "    for i in range(len(notas)):\n",
    "        if notas[i] == nota_max:\n",
    "            nombres_nota_max.append(nombres[i])\n",
    "            \n",
    "    return nombres_nota_max\n",
    "    "
   ]
  },
  {
   "cell_type": "code",
   "execution_count": 53,
   "metadata": {},
   "outputs": [
    {
     "data": {
      "text/plain": [
       "'7.0'"
      ]
     },
     "execution_count": 53,
     "metadata": {},
     "output_type": "execute_result"
    }
   ],
   "source": [
    "nota_max()"
   ]
  },
  {
   "cell_type": "code",
   "execution_count": 52,
   "metadata": {},
   "outputs": [],
   "source": [
    "def nota_max():\n",
    "    f = open('notas_prograudd.txt','r')\n",
    "    nombres=[]\n",
    "    notas=[]\n",
    "\n",
    "    for l in f:\n",
    "        L=l.split()     \n",
    "        nombres.append(L[0])\n",
    "        notas.append(L[1])\n",
    "    f.close()\n",
    "    \n",
    "    nota_max=max(notas)\n",
    "    \n",
    "    return nota_max  "
   ]
  },
  {
   "cell_type": "code",
   "execution_count": 59,
   "metadata": {},
   "outputs": [
    {
     "data": {
      "text/plain": [
       "['Tom_Delonge', 'Mario_Bros']"
      ]
     },
     "execution_count": 59,
     "metadata": {},
     "output_type": "execute_result"
    }
   ],
   "source": [
    "alumno_nota_max()"
   ]
  },
  {
   "cell_type": "code",
   "execution_count": 63,
   "metadata": {},
   "outputs": [],
   "source": [
    "def nota_min():\n",
    "    f = open('notas_prograudd.txt','r')\n",
    "    nombres=[]\n",
    "    notas=[]\n",
    "\n",
    "    for l in f:\n",
    "        L=l.split()     \n",
    "        nombres.append(L[0])\n",
    "        notas.append(L[1])\n",
    "    f.close()\n",
    "    \n",
    "    nota_min=min(notas)\n",
    "    \n",
    "    return nota_min "
   ]
  },
  {
   "cell_type": "code",
   "execution_count": 64,
   "metadata": {},
   "outputs": [
    {
     "data": {
      "text/plain": [
       "'1.0'"
      ]
     },
     "execution_count": 64,
     "metadata": {},
     "output_type": "execute_result"
    }
   ],
   "source": [
    "nota_min()"
   ]
  },
  {
   "cell_type": "code",
   "execution_count": 79,
   "metadata": {},
   "outputs": [],
   "source": [
    "def promedio():\n",
    "    f = open('notas_prograudd.txt','r')\n",
    "    nombres=[]\n",
    "    notas=[]\n",
    "    \n",
    "    for l in f:\n",
    "        L=l.split()     \n",
    "        notas.append(float(L[1]))\n",
    "    f.close()\n",
    "            \n",
    "    return round(sum(notas)/len(notas),2)"
   ]
  },
  {
   "cell_type": "code",
   "execution_count": 80,
   "metadata": {},
   "outputs": [
    {
     "data": {
      "text/plain": [
       "4.92"
      ]
     },
     "execution_count": 80,
     "metadata": {},
     "output_type": "execute_result"
    }
   ],
   "source": [
    "promedio()"
   ]
  },
  {
   "cell_type": "code",
   "execution_count": 88,
   "metadata": {},
   "outputs": [],
   "source": [
    "def notas_bajo(n):\n",
    "    f = open('notas_prograudd.txt','r')\n",
    "    nombres=[]\n",
    "    notas=[]\n",
    "    \n",
    "    for l in f:\n",
    "        L=l.split() \n",
    "        nombres.append(L[0])\n",
    "        notas.append(float(L[1]))\n",
    "    f.close()\n",
    "    \n",
    "    notas_aux=[]\n",
    "    for i in range(len(notas)):\n",
    "        if notas[i]<=n:\n",
    "            notas_aux.append(nombres[i] + ' ' + str(notas[i]))\n",
    "            \n",
    "    return notas_aux"
   ]
  },
  {
   "cell_type": "code",
   "execution_count": 90,
   "metadata": {},
   "outputs": [
    {
     "data": {
      "text/plain": [
       "['Matias_Mattamala 3.0',\n",
       " 'Herta_Caro 2.0',\n",
       " 'Sara_Pool 1.5',\n",
       " 'Donald_Trump 1.0',\n",
       " 'Carlos_Contreras 2.2',\n",
       " 'Daniel_Carbacho 2.5',\n",
       " 'Nicolas_Allendes 2.1',\n",
       " 'Wally_West 2.6']"
      ]
     },
     "execution_count": 90,
     "metadata": {},
     "output_type": "execute_result"
    }
   ],
   "source": [
    "notas_bajo(3)"
   ]
  },
  {
   "cell_type": "code",
   "execution_count": null,
   "metadata": {},
   "outputs": [],
   "source": []
  }
 ],
 "metadata": {
  "kernelspec": {
   "display_name": "Python 3",
   "language": "python",
   "name": "python3"
  },
  "language_info": {
   "codemirror_mode": {
    "name": "ipython",
    "version": 3
   },
   "file_extension": ".py",
   "mimetype": "text/x-python",
   "name": "python",
   "nbconvert_exporter": "python",
   "pygments_lexer": "ipython3",
   "version": "3.7.3"
  }
 },
 "nbformat": 4,
 "nbformat_minor": 2
}
