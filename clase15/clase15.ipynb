{
 "cells": [
  {
   "cell_type": "code",
   "execution_count": 36,
   "metadata": {},
   "outputs": [
    {
     "name": "stdout",
     "output_type": "stream",
     "text": [
      "Santiago 980.0\n",
      "Puente Alto 889.0\n",
      "Maipu 480.0\n",
      "San Bernardo 435.0\n",
      "Independencia 431.0\n",
      "La Florida 428.0\n",
      "Quilicura 423.0\n",
      "Las Condes 409.0\n",
      "Recoleta 398.0\n",
      "Estacion Central 341.0\n",
      "Nunoa 329.0\n",
      "Penalolen 322.0\n",
      "La Pintana 269.0\n",
      "Quinta Normal 262.0\n",
      "Lo Barnechea 238.0\n",
      "El Bosque 236.0\n",
      "Pudahuel 233.0\n",
      "Providencia 226.0\n",
      "San Miguel 213.0\n",
      "Conchali 187.0\n",
      "Renca 185.0\n",
      "San Joaquin 183.0\n",
      "Pedro Aguirre Cerda 180.0\n",
      "Cerro Navia 179.0\n",
      "Lo Prado 170.0\n",
      "Vitacura 152.0\n",
      "San Ramon 144.0\n",
      "La Granja 138.0\n",
      "Macul 136.0\n",
      "Lo Espejo 130.0\n",
      "Cerrillos 129.0\n",
      "Colina 129.0\n",
      "La Cisterna 122.0\n",
      "Huechuraba 113.0\n",
      "La Reina 108.0\n",
      "Lampa 96.0\n",
      "Buin 81.0\n",
      "Melipilla 74.0\n",
      "Penaflor 67.0\n",
      "Padre Hurtado 55.0\n",
      "Talagante 37.0\n",
      "Pirque 30.0\n",
      "El Monte 21.0\n",
      "Paine 21.0\n",
      "Curacavi 19.0\n",
      "Calera de Tango 17.0\n",
      "Isla de Maipo 14.0\n",
      "San Jose de Maipo 12.0\n",
      "Tiltil 9.0\n",
      "San Pedro 8.0\n",
      "Maria Pinto 3.0\n",
      "Alhue 0.0\n"
     ]
    }
   ],
   "source": [
    "contagios=dict()\n",
    "with open('2020-05-01-CasosConfirmados.csv', 'r') as f:\n",
    "    for line in f:\n",
    "        if line.startswith('Metro') == True:\n",
    "            s=line.split(',')\n",
    "            contagios[s[2]]=float(s[5][:-1]) \n",
    "\n",
    "for comuna, casos in sorted(contagios.items(),  key=operator.itemgetter(1), reverse=True):\n",
    "    print(comuna, casos)"
   ]
  },
  {
   "cell_type": "code",
   "execution_count": 44,
   "metadata": {},
   "outputs": [
    {
     "name": "stdout",
     "output_type": "stream",
     "text": [
      "Santiago 980.0\n",
      "Puente Alto 889.0\n",
      "Maipu 480.0\n",
      "San Bernardo 435.0\n",
      "Independencia 431.0\n",
      "La Florida 428.0\n",
      "Quilicura 423.0\n",
      "Las Condes 409.0\n",
      "Recoleta 398.0\n",
      "Estacion Central 341.0\n",
      "Nunoa 329.0\n",
      "Penalolen 322.0\n",
      "La Pintana 269.0\n",
      "Quinta Normal 262.0\n",
      "Lo Barnechea 238.0\n",
      "El Bosque 236.0\n",
      "Pudahuel 233.0\n",
      "Providencia 226.0\n",
      "San Miguel 213.0\n",
      "Conchali 187.0\n",
      "Renca 185.0\n",
      "San Joaquin 183.0\n",
      "Pedro Aguirre Cerda 180.0\n",
      "Cerro Navia 179.0\n",
      "Lo Prado 170.0\n",
      "Vitacura 152.0\n",
      "San Ramon 144.0\n",
      "La Granja 138.0\n",
      "Macul 136.0\n",
      "Lo Espejo 130.0\n",
      "Colina 129.0\n",
      "Cerrillos 129.0\n",
      "La Cisterna 122.0\n",
      "Huechuraba 113.0\n",
      "La Reina 108.0\n",
      "Lampa 96.0\n",
      "Buin 81.0\n",
      "Melipilla 74.0\n",
      "Penaflor 67.0\n",
      "Padre Hurtado 55.0\n",
      "Talagante 37.0\n",
      "Pirque 30.0\n",
      "Paine 21.0\n",
      "El Monte 21.0\n",
      "Curacavi 19.0\n",
      "Calera de Tango 17.0\n",
      "Isla de Maipo 14.0\n",
      "San Jose de Maipo 12.0\n",
      "Tiltil 9.0\n",
      "San Pedro 8.0\n",
      "Maria Pinto 3.0\n",
      "Alhue 0.0\n"
     ]
    }
   ],
   "source": [
    "contagios=list()\n",
    "with open('2020-05-01-CasosConfirmados.csv', 'r') as f:\n",
    "    for line in f:\n",
    "        if line.startswith('Metro') == True:\n",
    "            s = line.split(',')\n",
    "            comuna = s[2]\n",
    "            casos = float(s[5][:-1])\n",
    "            contagios.append([casos, comuna])\n",
    "\n",
    "for casos, comuna in sorted(contagios, reverse=True):\n",
    "    print(comuna, casos)"
   ]
  },
  {
   "cell_type": "code",
   "execution_count": 3,
   "metadata": {},
   "outputs": [],
   "source": [
    "f = open('archivo1.txt', 'w')\n",
    "f.write('Hola')\n",
    "f.close()"
   ]
  },
  {
   "cell_type": "code",
   "execution_count": 4,
   "metadata": {},
   "outputs": [],
   "source": [
    "with open('archivo2.txt', 'w') as f:\n",
    "    f.write('Hola')"
   ]
  },
  {
   "cell_type": "code",
   "execution_count": 1,
   "metadata": {},
   "outputs": [],
   "source": [
    "data = [\"Línea 1\", \"Línea 2\", \"Línea 3\", \"Línea 4\", \"Línea 5\"]"
   ]
  },
  {
   "cell_type": "code",
   "execution_count": 6,
   "metadata": {},
   "outputs": [],
   "source": [
    "file = open(\"archivo3.txt\", \"w\")\n",
    "for line in data:\n",
    "    file.write(line)\n",
    "    file.write(\"\\n\")\n",
    "    \n",
    "file.close()"
   ]
  },
  {
   "cell_type": "code",
   "execution_count": 7,
   "metadata": {},
   "outputs": [],
   "source": [
    "with open('archivo3.txt', 'a') as f:\n",
    "    f.write('Hola')"
   ]
  },
  {
   "cell_type": "code",
   "execution_count": null,
   "metadata": {},
   "outputs": [],
   "source": []
  }
 ],
 "metadata": {
  "kernelspec": {
   "display_name": "Python 3",
   "language": "python",
   "name": "python3"
  },
  "language_info": {
   "codemirror_mode": {
    "name": "ipython",
    "version": 3
   },
   "file_extension": ".py",
   "mimetype": "text/x-python",
   "name": "python",
   "nbconvert_exporter": "python",
   "pygments_lexer": "ipython3",
   "version": "3.7.6"
  }
 },
 "nbformat": 4,
 "nbformat_minor": 4
}
