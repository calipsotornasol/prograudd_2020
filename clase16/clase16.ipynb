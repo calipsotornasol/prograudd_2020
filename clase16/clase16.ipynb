{
 "cells": [
  {
   "cell_type": "code",
   "execution_count": 6,
   "metadata": {},
   "outputs": [],
   "source": [
    "f = open('archivo1.txt', 'w')\n",
    "f.write('Hola')\n",
    "f.close()"
   ]
  },
  {
   "cell_type": "code",
   "execution_count": 7,
   "metadata": {},
   "outputs": [],
   "source": [
    "with open('archivo2.txt', 'w') as f:\n",
    "    f.write('Hola')"
   ]
  },
  {
   "cell_type": "code",
   "execution_count": 8,
   "metadata": {},
   "outputs": [],
   "source": [
    "data = [\"Línea 1\", \"Línea 2\", \"Línea 3\", \"Línea 4\", \"Línea 5\"]"
   ]
  },
  {
   "cell_type": "code",
   "execution_count": 9,
   "metadata": {},
   "outputs": [],
   "source": [
    "file = open(\"archivo3.txt\", \"w\")\n",
    "for line in data:\n",
    "    file.write(line)\n",
    "    file.write(\"\\n\")\n",
    "    \n",
    "file.close()"
   ]
  },
  {
   "cell_type": "code",
   "execution_count": 10,
   "metadata": {},
   "outputs": [],
   "source": [
    "with open('archivo3.txt', 'a') as f:\n",
    "    f.write('Hola')"
   ]
  },
  {
   "cell_type": "code",
   "execution_count": 1,
   "metadata": {},
   "outputs": [],
   "source": [
    "cont_reg=dict()\n",
    "with open(\"2020-06-01-CasosConfirmados-totalRegional.csv\", \"r\") as T:\n",
    "    next(T)\n",
    "    for line in T:\n",
    "        s=line.split(',')\n",
    "        region=\" \".join(s[0].split())\n",
    "        casos_nuevos=int(s[3])\n",
    "        if region == 'Total':\n",
    "            continue\n",
    "        cont_reg[region]=casos_nuevos"
   ]
  },
  {
   "cell_type": "code",
   "execution_count": 2,
   "metadata": {},
   "outputs": [
    {
     "data": {
      "text/plain": [
       "{'Arica y Parinacota': 13,\n",
       " 'Tarapaca': 152,\n",
       " 'Antofagasta': 67,\n",
       " 'Atacama': 8,\n",
       " 'Coquimbo': 33,\n",
       " 'Valparaiso': 166,\n",
       " 'Metropolitana': 4436,\n",
       " \"O'Higgins\": 23,\n",
       " 'Maule': 37,\n",
       " 'Nuble': 32,\n",
       " 'Biobio': 75,\n",
       " 'Araucania': 34,\n",
       " 'Los Rios': 5,\n",
       " 'Los Lagos': 0,\n",
       " 'Aysen': 0,\n",
       " 'Magallanes': 1}"
      ]
     },
     "execution_count": 2,
     "metadata": {},
     "output_type": "execute_result"
    }
   ],
   "source": [
    "cont_reg"
   ]
  },
  {
   "cell_type": "code",
   "execution_count": 3,
   "metadata": {},
   "outputs": [],
   "source": [
    "def remove_accents(s):\n",
    "    return s.replace('á','a').replace('é','e').replace('í','i').replace('ó','o').replace('ú','u').replace('’','\\'').replace('Ñ','N')   "
   ]
  },
  {
   "cell_type": "code",
   "execution_count": 4,
   "metadata": {},
   "outputs": [],
   "source": [
    "pcr_reg=dict()\n",
    "with open(\"PCR.csv\", \"r\") as g:\n",
    "    next(g)\n",
    "    for line in g:\n",
    "        s=line.split(',')\n",
    "        regiones =remove_accents(s[0])\n",
    "        pcr_reg[regiones]=int(s[56])\n",
    "       "
   ]
  },
  {
   "cell_type": "code",
   "execution_count": 5,
   "metadata": {},
   "outputs": [
    {
     "data": {
      "text/plain": [
       "{'Arica y Parinacota': 0,\n",
       " 'Tarapaca': 445,\n",
       " 'Antofagasta': 247,\n",
       " 'Atacama': 289,\n",
       " 'Coquimbo': 177,\n",
       " 'Valparaiso': 587,\n",
       " 'Metropolitana': 11285,\n",
       " \"O'Higgins\": 196,\n",
       " 'Maule': 0,\n",
       " 'Nuble': 639,\n",
       " 'Biobio': 1295,\n",
       " 'Araucania': 491,\n",
       " 'Los Rios': 114,\n",
       " 'Los Lagos': 994,\n",
       " 'Aysen': 24,\n",
       " 'Magallanes': 107}"
      ]
     },
     "execution_count": 5,
     "metadata": {},
     "output_type": "execute_result"
    }
   ],
   "source": [
    "pcr_reg"
   ]
  },
  {
   "cell_type": "code",
   "execution_count": 6,
   "metadata": {},
   "outputs": [],
   "source": [
    "file = open(\"pcr_region.csv\", \"w\")\n",
    "for region, pcr in pcr_reg.items():\n",
    "    positividad = 0\n",
    "    if pcr > 0:\n",
    "        positividad = 100*cont_reg[region]/pcr\n",
    "    valores = [region, str(pcr), str(cont_reg[region]), \"{:.2f}\".format(positividad)]\n",
    "    \n",
    "    linea = ','.join(valores) + \"\\n\"\n",
    "    file.write(linea)\n",
    "file.close()"
   ]
  },
  {
   "cell_type": "code",
   "execution_count": null,
   "metadata": {},
   "outputs": [],
   "source": []
  },
  {
   "cell_type": "code",
   "execution_count": null,
   "metadata": {},
   "outputs": [],
   "source": []
  }
 ],
 "metadata": {
  "kernelspec": {
   "display_name": "Python 3",
   "language": "python",
   "name": "python3"
  },
  "language_info": {
   "codemirror_mode": {
    "name": "ipython",
    "version": 3
   },
   "file_extension": ".py",
   "mimetype": "text/x-python",
   "name": "python",
   "nbconvert_exporter": "python",
   "pygments_lexer": "ipython3",
   "version": "3.7.6"
  }
 },
 "nbformat": 4,
 "nbformat_minor": 4
}
