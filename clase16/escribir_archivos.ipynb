{
 "cells": [
  {
   "cell_type": "code",
   "execution_count": 1,
   "metadata": {},
   "outputs": [],
   "source": [
    "def escribir_lista(file):\n",
    "    f=open(file, 'a+')\n",
    "\n",
    "    L=[1,2,3]\n",
    "\n",
    "    for i in  range(len(L)):\n",
    "        f.write(str(i) +'\\n')\n",
    "\n",
    "    f.close()\n",
    "    \n",
    "escribir_lista('archivo1.txt')"
   ]
  },
  {
   "cell_type": "code",
   "execution_count": 2,
   "metadata": {},
   "outputs": [],
   "source": [
    "def escribir_tabla(L):\n",
    "    f=open('archivo2.txt', 'a+')\n",
    "    f.write(' '.join(L) + '\\n')\n",
    "    f.close()\n",
    "    \n",
    "    g=open('archivo2.txt', 'r')\n",
    "    for line in g:\n",
    "        print(line)\n",
    "\n",
    "L1=['Daniela', 'Opitz', '12345']\n",
    "L2=['Yerka', 'Freire', '33333']"
   ]
  },
  {
   "cell_type": "code",
   "execution_count": 33,
   "metadata": {},
   "outputs": [
    {
     "name": "stdout",
     "output_type": "stream",
     "text": [
      "Daniela Opitz 12345\n",
      "\n"
     ]
    }
   ],
   "source": [
    "escribir_tabla(L1)"
   ]
  },
  {
   "cell_type": "code",
   "execution_count": 3,
   "metadata": {},
   "outputs": [
    {
     "name": "stdout",
     "output_type": "stream",
     "text": [
      "Yerka Freire 33333\n",
      "\n"
     ]
    }
   ],
   "source": [
    "escribir_tabla(L2)"
   ]
  },
  {
   "cell_type": "code",
   "execution_count": null,
   "metadata": {},
   "outputs": [],
   "source": []
  }
 ],
 "metadata": {
  "kernelspec": {
   "display_name": "Python 3",
   "language": "python",
   "name": "python3"
  },
  "language_info": {
   "codemirror_mode": {
    "name": "ipython",
    "version": 3
   },
   "file_extension": ".py",
   "mimetype": "text/x-python",
   "name": "python",
   "nbconvert_exporter": "python",
   "pygments_lexer": "ipython3",
   "version": "3.7.6"
  }
 },
 "nbformat": 4,
 "nbformat_minor": 2
}
